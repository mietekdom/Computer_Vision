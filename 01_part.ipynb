{
  "nbformat": 4,
  "nbformat_minor": 0,
  "metadata": {
    "colab": {
      "name": "01_part.ipynb",
      "provenance": [],
      "authorship_tag": "ABX9TyNeWBkNvxbSlKEeqhkU3u6L",
      "include_colab_link": true
    },
    "kernelspec": {
      "name": "python3",
      "display_name": "Python 3"
    }
  },
  "cells": [
    {
      "cell_type": "markdown",
      "metadata": {
        "id": "view-in-github",
        "colab_type": "text"
      },
      "source": [
        "<a href=\"https://colab.research.google.com/github/mietekdom/Computer_Vision/blob/main/01_part.ipynb\" target=\"_parent\"><img src=\"https://colab.research.google.com/assets/colab-badge.svg\" alt=\"Open In Colab\"/></a>"
      ]
    },
    {
      "cell_type": "code",
      "metadata": {
        "id": "QI333vnyV_Qd",
        "outputId": "4c41fa2d-6997-4f29-86ef-a8b488b69896",
        "colab": {
          "base_uri": "https://localhost:8080/",
          "height": 35
        }
      },
      "source": [
        "from google.colab.patches import cv2_imshow #do wyswietlania obrazu\n",
        "import cv2\n",
        "\n",
        "cv2.__version__"
      ],
      "execution_count": 2,
      "outputs": [
        {
          "output_type": "execute_result",
          "data": {
            "application/vnd.google.colaboratory.intrinsic+json": {
              "type": "string"
            },
            "text/plain": [
              "'4.1.2'"
            ]
          },
          "metadata": {
            "tags": []
          },
          "execution_count": 2
        }
      ]
    },
    {
      "cell_type": "markdown",
      "metadata": {
        "id": "keNIJVpuWyBr"
      },
      "source": [
        "\n",
        "**Wczytanie obrazu**"
      ]
    },
    {
      "cell_type": "code",
      "metadata": {
        "id": "IiPvUPhdW0JC",
        "outputId": "b79e4b75-81b8-4348-c872-1bd92d37f749",
        "colab": {
          "base_uri": "https://localhost:8080/"
        }
      },
      "source": [
        "img = cv2.imread(filename='view.jpg')\n",
        "img"
      ],
      "execution_count": 5,
      "outputs": [
        {
          "output_type": "execute_result",
          "data": {
            "text/plain": [
              "array([[[117,  79,  49],\n",
              "        [114,  76,  46],\n",
              "        [122,  84,  54],\n",
              "        ...,\n",
              "        [121,  83,  51],\n",
              "        [125,  87,  55],\n",
              "        [124,  86,  54]],\n",
              "\n",
              "       [[120,  82,  52],\n",
              "        [121,  83,  53],\n",
              "        [119,  81,  51],\n",
              "        ...,\n",
              "        [124,  86,  54],\n",
              "        [124,  86,  54],\n",
              "        [122,  84,  52]],\n",
              "\n",
              "       [[122,  84,  54],\n",
              "        [122,  84,  54],\n",
              "        [118,  80,  50],\n",
              "        ...,\n",
              "        [124,  87,  53],\n",
              "        [121,  84,  50],\n",
              "        [121,  84,  50]],\n",
              "\n",
              "       ...,\n",
              "\n",
              "       [[ 57,  41,  34],\n",
              "        [ 55,  39,  33],\n",
              "        [ 50,  34,  28],\n",
              "        ...,\n",
              "        [ 54,  48,  37],\n",
              "        [ 49,  43,  36],\n",
              "        [ 42,  38,  33]],\n",
              "\n",
              "       [[ 55,  38,  29],\n",
              "        [ 55,  38,  29],\n",
              "        [ 54,  38,  32],\n",
              "        ...,\n",
              "        [ 49,  38,  30],\n",
              "        [ 49,  40,  36],\n",
              "        [ 61,  54,  51]],\n",
              "\n",
              "       [[ 57,  41,  29],\n",
              "        [ 58,  41,  32],\n",
              "        [ 59,  43,  36],\n",
              "        ...,\n",
              "        [ 62,  51,  43],\n",
              "        [ 64,  52,  50],\n",
              "        [ 56,  46,  46]]], dtype=uint8)"
            ]
          },
          "metadata": {
            "tags": []
          },
          "execution_count": 5
        }
      ]
    }
  ]
}