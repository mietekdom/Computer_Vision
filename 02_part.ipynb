{
  "nbformat": 4,
  "nbformat_minor": 0,
  "metadata": {
    "colab": {
      "name": "01_part.ipynb",
      "provenance": [],
      "collapsed_sections": [],
      "authorship_tag": "ABX9TyNz/hJcVlD26NO58V7H6dNE",
      "include_colab_link": true
    },
    "kernelspec": {
      "display_name": "Python 3",
      "name": "python3"
    }
  },
  "cells": [
    {
      "cell_type": "markdown",
      "metadata": {
        "id": "view-in-github",
        "colab_type": "text"
      },
      "source": [
        "<a href=\"https://colab.research.google.com/github/mietekdom/Computer_Vision/blob/main/02_part.ipynb\" target=\"_parent\"><img src=\"https://colab.research.google.com/assets/colab-badge.svg\" alt=\"Open In Colab\"/></a>"
      ]
    },
    {
      "cell_type": "code",
      "metadata": {
        "id": "QI333vnyV_Qd",
        "outputId": "b6c8b491-9f19-40ab-e225-2620553da487",
        "colab": {
          "base_uri": "https://localhost:8080/",
          "height": 35
        }
      },
      "source": [
        "from google.colab.patches import cv2_imshow #do wyswietlania obrazu\n",
        "import cv2\n",
        "\n",
        "cv2.__version__"
      ],
      "execution_count": null,
      "outputs": [
        {
          "output_type": "execute_result",
          "data": {
            "application/vnd.google.colaboratory.intrinsic+json": {
              "type": "string"
            },
            "text/plain": [
              "'4.1.2'"
            ]
          },
          "metadata": {
            "tags": []
          },
          "execution_count": 58
        }
      ]
    },
    {
      "cell_type": "markdown",
      "metadata": {
        "id": "keNIJVpuWyBr"
      },
      "source": [
        "\n",
        "**Wczytanie obrazu**"
      ]
    },
    {
      "cell_type": "code",
      "metadata": {
        "id": "IiPvUPhdW0JC",
        "outputId": "2f6dc149-cf5b-4b20-a3dd-94882d9fbbc5",
        "colab": {
          "base_uri": "https://localhost:8080/"
        }
      },
      "source": [
        "img = cv2.imread(filename='gory.jpg')\n",
        "img"
      ],
      "execution_count": null,
      "outputs": [
        {
          "output_type": "execute_result",
          "data": {
            "text/plain": [
              "array([[[128, 128, 128],\n",
              "        [128, 128, 128],\n",
              "        [128, 128, 128],\n",
              "        ...,\n",
              "        [204, 185, 180],\n",
              "        [204, 185, 180],\n",
              "        [207, 188, 183]],\n",
              "\n",
              "       [[128, 128, 128],\n",
              "        [128, 128, 128],\n",
              "        [128, 128, 128],\n",
              "        ...,\n",
              "        [205, 186, 181],\n",
              "        [205, 186, 181],\n",
              "        [207, 188, 183]],\n",
              "\n",
              "       [[128, 128, 128],\n",
              "        [128, 128, 128],\n",
              "        [128, 128, 128],\n",
              "        ...,\n",
              "        [206, 187, 182],\n",
              "        [205, 186, 181],\n",
              "        [206, 187, 182]],\n",
              "\n",
              "       ...,\n",
              "\n",
              "       [[128, 128, 128],\n",
              "        [128, 128, 128],\n",
              "        [128, 128, 128],\n",
              "        ...,\n",
              "        [152, 161, 171],\n",
              "        [152, 161, 170],\n",
              "        [149, 158, 167]],\n",
              "\n",
              "       [[128, 128, 128],\n",
              "        [128, 128, 128],\n",
              "        [128, 128, 128],\n",
              "        ...,\n",
              "        [153, 162, 171],\n",
              "        [157, 166, 175],\n",
              "        [157, 166, 175]],\n",
              "\n",
              "       [[128, 128, 128],\n",
              "        [128, 128, 128],\n",
              "        [128, 128, 128],\n",
              "        ...,\n",
              "        [153, 162, 171],\n",
              "        [159, 168, 177],\n",
              "        [163, 172, 181]]], dtype=uint8)"
            ]
          },
          "metadata": {
            "tags": []
          },
          "execution_count": 59
        }
      ]
    },
    {
      "cell_type": "code",
      "metadata": {
        "id": "eY1AQmUKZG54"
      },
      "source": [
        "cv2_imshow(img)"
      ],
      "execution_count": null,
      "outputs": []
    },
    {
      "cell_type": "code",
      "metadata": {
        "id": "NzZLrg5HZTJx",
        "outputId": "6eb2a792-bc18-41e1-e2eb-8296b32af543",
        "colab": {
          "base_uri": "https://localhost:8080/"
        }
      },
      "source": [
        "img.shape"
      ],
      "execution_count": null,
      "outputs": [
        {
          "output_type": "execute_result",
          "data": {
            "text/plain": [
              "(4128, 3096, 3)"
            ]
          },
          "metadata": {
            "tags": []
          },
          "execution_count": 61
        }
      ]
    },
    {
      "cell_type": "markdown",
      "metadata": {
        "id": "k12982UvbC33"
      },
      "source": [
        "**Zapisanie obrazu do pliku**"
      ]
    },
    {
      "cell_type": "code",
      "metadata": {
        "id": "KJ9KgOp3bFvp",
        "outputId": "4c517377-e6ee-43cb-ec99-312d5b9f002e",
        "colab": {
          "base_uri": "https://localhost:8080/"
        }
      },
      "source": [
        "cv2.imwrite(filename='gory.png', img=img)"
      ],
      "execution_count": null,
      "outputs": [
        {
          "output_type": "execute_result",
          "data": {
            "text/plain": [
              "True"
            ]
          },
          "metadata": {
            "tags": []
          },
          "execution_count": 62
        }
      ]
    },
    {
      "cell_type": "markdown",
      "metadata": {
        "id": "mHqLfsQHbfJn"
      },
      "source": [
        "**Wczytanie obrazu w odcieni szarości**"
      ]
    },
    {
      "cell_type": "code",
      "metadata": {
        "id": "zCTWVyB1bgzG",
        "outputId": "2fc3b2fc-56cd-4916-914e-26bec87b235c",
        "colab": {
          "base_uri": "https://localhost:8080/"
        }
      },
      "source": [
        "img = cv2.imread(filename='gory.jpg', flags=cv2.IMREAD_GRAYSCALE)\n",
        "img"
      ],
      "execution_count": null,
      "outputs": [
        {
          "output_type": "execute_result",
          "data": {
            "text/plain": [
              "array([[128, 128, 128, ..., 186, 186, 189],\n",
              "       [128, 128, 128, ..., 187, 187, 189],\n",
              "       [128, 128, 128, ..., 188, 187, 188],\n",
              "       ...,\n",
              "       [128, 128, 128, ..., 163, 163, 160],\n",
              "       [128, 128, 128, ..., 164, 168, 168],\n",
              "       [128, 128, 128, ..., 164, 170, 174]], dtype=uint8)"
            ]
          },
          "metadata": {
            "tags": []
          },
          "execution_count": 63
        }
      ]
    },
    {
      "cell_type": "code",
      "metadata": {
        "id": "_9NLlA9Ccjlq"
      },
      "source": [
        "cv2_imshow(img)"
      ],
      "execution_count": null,
      "outputs": []
    },
    {
      "cell_type": "code",
      "metadata": {
        "id": "7-Z5S1-fcmFX",
        "outputId": "cd65d3e1-a4e6-4d72-a349-88790cffd015",
        "colab": {
          "base_uri": "https://localhost:8080/"
        }
      },
      "source": [
        "img.shape"
      ],
      "execution_count": null,
      "outputs": [
        {
          "output_type": "execute_result",
          "data": {
            "text/plain": [
              "(4128, 3096)"
            ]
          },
          "metadata": {
            "tags": []
          },
          "execution_count": 65
        }
      ]
    },
    {
      "cell_type": "markdown",
      "metadata": {
        "id": "8vlk0wuah2uy"
      },
      "source": [
        "**Wycinanie fragmentów obrazu**"
      ]
    },
    {
      "cell_type": "code",
      "metadata": {
        "id": "nxGHvdJGh8FJ"
      },
      "source": [
        "img = cv2.imread(filename='gory.jpg')\n",
        "cv2_imshow(img)"
      ],
      "execution_count": null,
      "outputs": []
    },
    {
      "cell_type": "code",
      "metadata": {
        "id": "PPGKPvmPiXe4"
      },
      "source": [
        "left_top_square = img[:1500, :1500] # wycinamy prawy lewy róg\n",
        "print(left_top_square.shape)\n",
        "cv2_imshow(left_top_square)"
      ],
      "execution_count": null,
      "outputs": []
    },
    {
      "cell_type": "code",
      "metadata": {
        "id": "sxodLKFhjgMk"
      },
      "source": [
        "right_top_square = img[:200, -200:] # wycinamy prawy górny róg\n",
        "print(right_top_square.shape)\n",
        "cv2_imshow(right_top_square)"
      ],
      "execution_count": null,
      "outputs": []
    },
    {
      "cell_type": "code",
      "metadata": {
        "id": "E4pD91CVjnem"
      },
      "source": [
        "right_top_square = img[:-200, -200:] # wycinamy prawy dolny róg\n",
        "print(right_top_square.shape)\n",
        "cv2_imshow(right_top_square)"
      ],
      "execution_count": null,
      "outputs": []
    },
    {
      "cell_type": "code",
      "metadata": {
        "id": "32xS1UnAj_0O"
      },
      "source": [
        "height, width, _ = img.shape\n",
        "\n",
        "h0 = height // 2 - 100\n",
        "h1 = height // 2 + 100\n",
        "w0 = width // 2 - 100\n",
        "w1 = width // 2 + 100\n",
        "\n",
        "middle = img[h0:h1, w0:w1]\n",
        "cv2_imshow(middle)"
      ],
      "execution_count": null,
      "outputs": []
    },
    {
      "cell_type": "markdown",
      "metadata": {
        "id": "KgFDq_Z-kI2Q"
      },
      "source": [
        "**Zmiana rozmiaru obrazu**"
      ]
    },
    {
      "cell_type": "code",
      "metadata": {
        "id": "cnS9xDZfkUIl",
        "outputId": "a4096e2e-fd0d-440c-b3a3-cf691d7c1932",
        "colab": {
          "base_uri": "https://localhost:8080/",
          "height": 35
        }
      },
      "source": [
        "import imutils\n",
        "imutils.__version__"
      ],
      "execution_count": null,
      "outputs": [
        {
          "output_type": "execute_result",
          "data": {
            "application/vnd.google.colaboratory.intrinsic+json": {
              "type": "string"
            },
            "text/plain": [
              "'0.5.3'"
            ]
          },
          "metadata": {
            "tags": []
          },
          "execution_count": 73
        }
      ]
    },
    {
      "cell_type": "code",
      "metadata": {
        "id": "I22Fv0qxlTjQ"
      },
      "source": [
        "img = cv2.imread('DSC_0413.jpg')\n",
        "cv2_imshow(img)"
      ],
      "execution_count": null,
      "outputs": []
    },
    {
      "cell_type": "code",
      "metadata": {
        "id": "IcKRDWhJljQF"
      },
      "source": [
        "img_resized = imutils.resize(image=img, height=600) #zmiana rozmiar\n",
        "cv2_imshow(img_resized)"
      ],
      "execution_count": null,
      "outputs": []
    },
    {
      "cell_type": "markdown",
      "metadata": {
        "id": "yMjbJZKamMK8"
      },
      "source": [
        "**Detekcja krawędzi**"
      ]
    },
    {
      "cell_type": "code",
      "metadata": {
        "id": "HJhQy3KcmTYx"
      },
      "source": [
        "cv2_imshow(cv2.Laplacian(src=img, ddepth=cv2.CV_64F))"
      ],
      "execution_count": null,
      "outputs": []
    },
    {
      "cell_type": "code",
      "metadata": {
        "id": "urAzSf8emj21"
      },
      "source": [
        "cv2_imshow(cv2.Canny(image=img, threshold1=200, threshold2=200))"
      ],
      "execution_count": null,
      "outputs": []
    },
    {
      "cell_type": "markdown",
      "metadata": {
        "id": "N6LUwiNYncxI"
      },
      "source": [
        "**Ryskowanie po obrazie**"
      ]
    },
    {
      "cell_type": "code",
      "metadata": {
        "id": "s81uJLFzn2qN"
      },
      "source": [
        "cv2_imshow(cv2.rectangle(img=img.copy(), pt1=(1000, 1200), pt2=(2100, 2100), color=(0, 0, 255), thickness=2))"
      ],
      "execution_count": null,
      "outputs": []
    },
    {
      "cell_type": "code",
      "metadata": {
        "id": "u2h7QWA9pE1e"
      },
      "source": [
        "cv2_imshow(cv2.circle(img=img.copy(), center=(900, 300), radius=250, color=(255, 0, 0), thickness=-1))"
      ],
      "execution_count": null,
      "outputs": []
    },
    {
      "cell_type": "code",
      "metadata": {
        "id": "JWT2I-0VtchE"
      },
      "source": [
        "cv2_imshow(cv2.putText(img=img.copy(), text='OpenCV: Gory', org=(10, 40), \n",
        "                       fontFace=cv2.FONT_HERSHEY_SIMPLEX, fontScale=1.5,\n",
        "                       color=(0, 255, 0), thickness=4))"
      ],
      "execution_count": null,
      "outputs": []
    }
  ]
}